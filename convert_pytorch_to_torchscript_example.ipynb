{
 "cells": [
  {
   "cell_type": "markdown",
   "metadata": {},
   "source": [
    "## Model definition"
   ]
  },
  {
   "cell_type": "code",
   "execution_count": 1,
   "metadata": {},
   "outputs": [],
   "source": [
    "import math\n",
    "import numpy as np\n",
    "import os\n",
    "import torch\n",
    "import torch.nn as nn\n",
    "from torch.nn.modules.module import Module\n",
    "\n",
    "class testLinear(Module):\n",
    "    def __init__(self, in_feat, out_feat):\n",
    "        super(testLinear, self).__init__()\n",
    "        self.weight = nn.Linear(in_feat, out_feat, bias=False)\n",
    "        self.reset_parameters()\n",
    "\n",
    "    def reset_parameters(self):\n",
    "        torch.nn.init.xavier_uniform_(self.weight.weight)\n",
    "        \n",
    "    def forward(self, input):\n",
    "        x = self.weight(input) \n",
    "        return x"
   ]
  },
  {
   "cell_type": "code",
   "execution_count": 6,
   "metadata": {},
   "outputs": [
    {
     "name": "stdout",
     "output_type": "stream",
     "text": [
      "Pytorch output: \n",
      " tensor([[[ 0.7506, -0.6191, -0.9389],\n",
      "         [ 0.7067, -0.4748, -0.9219],\n",
      "         [ 0.6418, -0.5606, -0.7919],\n",
      "         [ 0.1280, -0.1105, -0.1584],\n",
      "         [ 1.0030, -0.3163, -1.4341],\n",
      "         [ 0.5764,  0.0532, -0.9067],\n",
      "         [ 1.0830, -0.5608, -1.4715],\n",
      "         [ 0.7507, -0.5899, -0.9494],\n",
      "         [ 1.0004, -0.4530, -1.3820],\n",
      "         [ 0.3665,  0.0194, -0.5714],\n",
      "         [ 0.4789, -0.3924, -0.5999],\n",
      "         [ 0.5356,  0.0552, -0.8445],\n",
      "         [ 0.7626, -0.3181, -1.0630],\n",
      "         [ 0.6264, -0.3697, -0.8351],\n",
      "         [ 0.8573, -0.1959, -1.2520],\n",
      "         [ 0.4973, -0.2085, -0.6929],\n",
      "         [ 1.0588, -0.4674, -1.4670]]], device='cuda:0',\n",
      "       grad_fn=<UnsafeViewBackward>)\n"
     ]
    }
   ],
   "source": [
    "lin_model = testLinear(in_feat=2, out_feat=3).cuda()\n",
    "sample_input = torch.rand(1, 17, 2).cuda()\n",
    "\n",
    "print(\"Pytorch output: \\n\", lin_model(sample_input))"
   ]
  },
  {
   "cell_type": "markdown",
   "metadata": {},
   "source": [
    "## Convert to ScriptModule\n",
    "Read more about torch.jit.scriptmodule <a link=https://pytorch.org/docs/stable/generated/torch.jit.ScriptModule.html#scriptmodule>here</a>."
   ]
  },
  {
   "cell_type": "code",
   "execution_count": 8,
   "metadata": {},
   "outputs": [
    {
     "name": "stdout",
     "output_type": "stream",
     "text": [
      "import __torch__.___torch_mangle_3\n",
      "import __torch__.torch.nn.modules.linear.___torch_mangle_4\n",
      "def forward(self,\n",
      "    input: Tensor) -> Tensor:\n",
      "  _0 = self.weight.weight\n",
      "  if torch.eq(torch.dim(input), 2):\n",
      "    _1 = torch.__isnot__(None, None)\n",
      "  else:\n",
      "    _1 = False\n",
      "  if _1:\n",
      "    bias = ops.prim.unchecked_unwrap_optional(annotate(Optional[Tensor], None))\n",
      "    x = torch.addmm(bias, input, torch.t(_0), beta=1, alpha=1)\n",
      "  else:\n",
      "    output = torch.matmul(input, torch.t(_0))\n",
      "    if torch.__isnot__(None, None):\n",
      "      bias0 = ops.prim.unchecked_unwrap_optional(annotate(Optional[Tensor], None))\n",
      "      output0 = torch.add_(output, bias0, alpha=1)\n",
      "    else:\n",
      "      output0 = output\n",
      "    x = output0\n",
      "  return x\n",
      "\n",
      "torchscript output:  torch.Size([1, 17, 3])\n"
     ]
    }
   ],
   "source": [
    "# for single input\n",
    "module_ts = torch.jit.script(lin_model, sample_input)\n",
    "\n",
    "# for multiple inputs\n",
    "# module_ts = torch.jit.script(lin_model, (input1, input2))\n",
    "\n",
    "# pretty-print the forward function code\n",
    "print(module_ts.code)\n",
    "\n",
    "# save scriptmodule\n",
    "model_path = os.path.join('out/','sample_model_traced.pt')\n",
    "module_ts.save(model_path)\n",
    "\n",
    "# compare scriptmodule output with that of pytorch module\n",
    "output = module_ts(sample_input)\n",
    "print(\"torchscript output: \", output.size())\n"
   ]
  },
  {
   "cell_type": "code",
   "execution_count": null,
   "metadata": {},
   "outputs": [],
   "source": []
  }
 ],
 "metadata": {
  "kernelspec": {
   "display_name": "venv_itop",
   "language": "python",
   "name": "venv_itop"
  },
  "language_info": {
   "codemirror_mode": {
    "name": "ipython",
    "version": 3
   },
   "file_extension": ".py",
   "mimetype": "text/x-python",
   "name": "python",
   "nbconvert_exporter": "python",
   "pygments_lexer": "ipython3",
   "version": "3.6.8"
  },
  "toc": {
   "base_numbering": 1,
   "nav_menu": {},
   "number_sections": true,
   "sideBar": true,
   "skip_h1_title": false,
   "title_cell": "Table of Contents",
   "title_sidebar": "Contents",
   "toc_cell": false,
   "toc_position": {},
   "toc_section_display": true,
   "toc_window_display": false
  }
 },
 "nbformat": 4,
 "nbformat_minor": 2
}
