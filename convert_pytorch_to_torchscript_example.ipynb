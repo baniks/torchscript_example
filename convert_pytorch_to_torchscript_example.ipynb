{
 "cells": [
  {
   "cell_type": "markdown",
   "metadata": {},
   "source": [
    "## Model definition"
   ]
  },
  {
   "cell_type": "code",
   "execution_count": 1,
   "metadata": {},
   "outputs": [],
   "source": [
    "import math\n",
    "import numpy as np\n",
    "import os\n",
    "import torch\n",
    "import torch.nn as nn\n",
    "from torch.nn.modules.module import Module\n",
    "\n",
    "class testLinear(Module):\n",
    "    def __init__(self, in_feat, out_feat):\n",
    "        super(testLinear, self).__init__()\n",
    "        self.weight = nn.Linear(in_feat, out_feat, bias=False)\n",
    "        self.reset_parameters()\n",
    "        self.var = 10\n",
    "\n",
    "    def reset_parameters(self):\n",
    "        torch.nn.init.xavier_uniform_(self.weight.weight)\n",
    "        \n",
    "    def forward(self, input):\n",
    "        x = self.weight(input) \n",
    "        return x"
   ]
  },
  {
   "cell_type": "code",
   "execution_count": 2,
   "metadata": {},
   "outputs": [
    {
     "output_type": "stream",
     "name": "stdout",
     "text": [
      "Pytorch output: \n tensor([[[ 0.4949,  0.0679, -0.6061],\n         [ 0.5487,  0.1210, -0.6902],\n         [ 0.1842, -0.0236, -0.2061],\n         [ 0.1809,  0.0805, -0.2437],\n         [ 0.2799,  0.1334, -0.3807],\n         [ 0.5195, -0.0482, -0.5886],\n         [ 0.2026,  0.0080, -0.2402],\n         [ 0.3953,  0.0241, -0.4721],\n         [ 0.2655,  0.1053, -0.3527],\n         [ 0.4343,  0.1261, -0.5584],\n         [ 0.0960,  0.0283, -0.1237],\n         [ 0.3603,  0.1267, -0.4721],\n         [ 0.3559, -0.0649, -0.3905],\n         [ 0.4506, -0.0422, -0.5104],\n         [ 0.2300,  0.2480, -0.3680],\n         [ 0.1335,  0.0672, -0.1830],\n         [ 0.3961, -0.0230, -0.4542]]], grad_fn=<UnsafeViewBackward>)\n"
     ]
    }
   ],
   "source": [
    "is_cuda = False \n",
    "lin_model = testLinear(in_feat=2, out_feat=3)\n",
    "lin_model = lin_model.cuda() if is_cuda else lin_model\n",
    "sample_input = torch.rand(1, 17, 2)\n",
    "sample_input = sample_input.cuda() if is_cuda else sample_input\n",
    "\n",
    "print(\"Pytorch output: \\n\", lin_model(sample_input))"
   ]
  },
  {
   "cell_type": "code",
   "execution_count": 3,
   "metadata": {},
   "outputs": [
    {
     "output_type": "stream",
     "name": "stdout",
     "text": [
      "Code: \n",
      "def forward(self,\n",
      "    input: Tensor) -> Tensor:\n",
      "  return (self.weight).forward(input, )\n",
      "\n",
      "/home/soubarna/.local/lib/python3.6/site-packages/torch/jit/__init__.py:1252: UserWarning: `optimize` is deprecated and has no effect. Use `with torch.jit.optimized_execution() instead\n",
      "  warnings.warn(\"`optimize` is deprecated and has no effect. Use `with torch.jit.optimized_execution() instead\")\n"
     ]
    }
   ],
   "source": [
    "# without input\n",
    "# module_ts = torch.jit.script(lin_model)\n",
    "\n",
    "# for single input\n",
    "module_ts = torch.jit.script(lin_model, sample_input)\n",
    "\n",
    "# for multiple inputs\n",
    "# module_ts = torch.jit.script(lin_model, (input1, input2))\n",
    "\n",
    "# pretty-print the forward function code\n",
    "print(\"Code: \")\n",
    "print(module_ts.code)\n"
   ]
  },
  {
   "cell_type": "code",
   "execution_count": 4,
   "metadata": {},
   "outputs": [
    {
     "output_type": "stream",
     "name": "stdout",
     "text": [
      "torchscript output:  torch.Size([1, 17, 3])\n"
     ]
    }
   ],
   "source": [
    "\n",
    "# save scriptmodule\n",
    "model_path = os.path.join('out/','sample_model_traced.pt')\n",
    "module_ts.save(model_path)\n",
    "\n",
    "# compare scriptmodule output with that of pytorch module\n",
    "output = module_ts(sample_input)\n",
    "print(\"torchscript output: \", output.size())\n"
   ]
  },
  {
   "cell_type": "code",
   "execution_count": null,
   "metadata": {},
   "outputs": [],
   "source": []
  }
 ],
 "metadata": {
  "kernelspec": {
   "display_name": "venv_itop",
   "language": "python",
   "name": "venv_itop"
  },
  "language_info": {
   "codemirror_mode": {
    "name": "ipython",
    "version": 3
   },
   "file_extension": ".py",
   "mimetype": "text/x-python",
   "name": "python",
   "nbconvert_exporter": "python",
   "pygments_lexer": "ipython3",
   "version": "3.6.9"
  },
  "toc": {
   "base_numbering": 1,
   "nav_menu": {},
   "number_sections": true,
   "sideBar": true,
   "skip_h1_title": false,
   "title_cell": "Table of Contents",
   "title_sidebar": "Contents",
   "toc_cell": false,
   "toc_position": {},
   "toc_section_display": true,
   "toc_window_display": false
  }
 },
 "nbformat": 4,
 "nbformat_minor": 2
}